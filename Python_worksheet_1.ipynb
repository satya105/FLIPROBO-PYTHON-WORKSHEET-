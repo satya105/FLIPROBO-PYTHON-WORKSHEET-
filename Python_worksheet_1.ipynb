{
 "cells": [
  {
   "cell_type": "markdown",
   "id": "aadce918",
   "metadata": {},
   "source": [
    "Ques 11- Python program to find the factorial of a number."
   ]
  },
  {
   "cell_type": "code",
   "execution_count": 8,
   "id": "ee4c065e",
   "metadata": {},
   "outputs": [
    {
     "name": "stdout",
     "output_type": "stream",
     "text": [
      "Enter a number:7\n",
      "The Factorial of 7 is 5040\n"
     ]
    }
   ],
   "source": [
    "num = int(input(\"Enter a number:\"))\n",
    "Fact = 1\n",
    "for i in range(1, num + 1):\n",
    "    Fact = Fact * i\n",
    "print(\"The Factorial of\",num,\"is\",Fact)"
   ]
  },
  {
   "cell_type": "markdown",
   "id": "89101186",
   "metadata": {},
   "source": [
    "Ques 12- Write a python program to find whether a number is prime or composite.\n"
   ]
  },
  {
   "cell_type": "code",
   "execution_count": 18,
   "id": "929c518c",
   "metadata": {},
   "outputs": [],
   "source": [
    "def prime_num(n):\n",
    "    if(n<=1):\n",
    "        return False\n",
    "    for i in range(2,n):\n",
    "        if(n%i ==0):    \n",
    "            return False\n",
    "        return True\n"
   ]
  },
  {
   "cell_type": "code",
   "execution_count": 20,
   "id": "8f18db71",
   "metadata": {},
   "outputs": [
    {
     "data": {
      "text/plain": [
       "True"
      ]
     },
     "execution_count": 20,
     "metadata": {},
     "output_type": "execute_result"
    }
   ],
   "source": [
    "prime_num(3)"
   ]
  },
  {
   "cell_type": "code",
   "execution_count": 21,
   "id": "0242ee6e",
   "metadata": {},
   "outputs": [
    {
     "data": {
      "text/plain": [
       "False"
      ]
     },
     "execution_count": 21,
     "metadata": {},
     "output_type": "execute_result"
    }
   ],
   "source": [
    "prime_num(4)"
   ]
  },
  {
   "cell_type": "markdown",
   "id": "504d8578",
   "metadata": {},
   "source": [
    "Ques 13- Write a python program to check whether a given string is palindrome or not.\n"
   ]
  },
  {
   "cell_type": "code",
   "execution_count": 12,
   "id": "4f505df0",
   "metadata": {},
   "outputs": [
    {
     "name": "stdout",
     "output_type": "stream",
     "text": [
      "The string is not a palindrome.\n"
     ]
    }
   ],
   "source": [
    "my_str = 'luckysingh'\n",
    "my_str = my_str.casefold()\n",
    "rev_str = reversed(my_str)\n",
    "if list(my_str) == list(rev_str):\n",
    "   print(\"The string is a palindrome.\")\n",
    "else:\n",
    "   print(\"The string is not a palindrome.\")\n",
    "      "
   ]
  },
  {
   "cell_type": "markdown",
   "id": "81a8afb5",
   "metadata": {},
   "source": [
    "Ques 14- Write a Python program to get the third side of right-angled triangle from two given sides.\n"
   ]
  },
  {
   "cell_type": "code",
   "execution_count": null,
   "id": "0b172940",
   "metadata": {},
   "outputs": [],
   "source": []
  },
  {
   "cell_type": "markdown",
   "id": "471f03a7",
   "metadata": {},
   "source": [
    "Ques 15- Write a python program to print the frequency of each of the characters present in a given string"
   ]
  },
  {
   "cell_type": "code",
   "execution_count": 14,
   "id": "a4ed7fa7",
   "metadata": {},
   "outputs": [
    {
     "name": "stdout",
     "output_type": "stream",
     "text": [
      "Enter the string: Flip Robo is an artificial intelligence company.\n",
      "{'F': 1, 'l': 4, 'i': 7, 'p': 2, ' ': 6, 'R': 1, 'o': 3, 'b': 1, 's': 1, 'a': 4, 'n': 4, 'r': 1, 't': 2, 'f': 1, 'c': 3, 'e': 3, 'g': 1, 'm': 1, 'y': 1, '.': 1}\n"
     ]
    }
   ],
   "source": [
    "my_str = input (\"Enter the string: \")\n",
    "d = dict()\n",
    "for x in my_str:\n",
    "    if x in d:\n",
    "        d[x] = d[x] + 1\n",
    "    else:\n",
    "        d[x] = 1\n",
    "print(d)"
   ]
  }
 ],
 "metadata": {
  "kernelspec": {
   "display_name": "Python 3 (ipykernel)",
   "language": "python",
   "name": "python3"
  },
  "language_info": {
   "codemirror_mode": {
    "name": "ipython",
    "version": 3
   },
   "file_extension": ".py",
   "mimetype": "text/x-python",
   "name": "python",
   "nbconvert_exporter": "python",
   "pygments_lexer": "ipython3",
   "version": "3.9.7"
  }
 },
 "nbformat": 4,
 "nbformat_minor": 5
}
